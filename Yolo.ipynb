Yolo.ipynb

from google.colab import drive

# Mount Google Drive with authorization
drive.mount('/content/drive', force_remount=True)

# Copy the data
!cp /content/drive/MyDrive/data.zip /content
